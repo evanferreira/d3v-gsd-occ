{
 "cells": [
  {
   "cell_type": "code",
   "execution_count": 5,
   "outputs": [],
   "source": [
    "from OCC.Core.Quantity import Quantity_Color, Quantity_TOC_RGB\n",
    "from pygem.cad.cad_deformation import CADDeformation\n",
    "from OCC.Core.gp import gp_Pnt, gp_Dir, gp_Vec, gp_Trsf, gp_Ax2, gp_Ax1, gp_GTrsf\n",
    "from OCC.Core.BRepPrimAPI import BRepPrimAPI_MakePrism\n",
    "from OCC.Core.BRepBuilderAPI import BRepBuilderAPI_Transform, BRepBuilderAPI_MakeFace, BRepBuilderAPI_MakeWire, BRepBuilderAPI_MakeEdge, BRepBuilderAPI_NurbsConvert, BRepBuilderAPI_MakeShell, BRepBuilderAPI_Sewing\n",
    "from OCC.Core.BRepAlgoAPI import BRepAlgoAPI_Section, BRepAlgoAPI_Fuse, BRepAlgoAPI_Cut\n",
    "from OCC.Core.BOPAlgo import BOPAlgo_Splitter\n",
    "from OCC.Core.Geom import Geom_Plane\n",
    "from OCC.Core.Bnd import Bnd_Box\n",
    "from OCC.Core.TopTools import TopTools_ListOfShape\n",
    "from OCC.Core.TopExp import TopExp_Explorer\n",
    "from OCC.Core.TopAbs import TopAbs_EDGE, TopAbs_VERTEX, TopAbs_FACE\n",
    "from OCC.Core.BRep import BRep_Tool_Pnt, BRep_Tool_Surface, BRep_Tool, BRep_Tool_Curve\n",
    "\n",
    "from OCC.Display.SimpleGui import init_display\n",
    "from OCC.Core.TopoDS import TopoDS_Edge, topods_Edge, topods_Face\n",
    "from OCC.Core.ShapeCustom import ShapeCustom_ConvertToBSpline\n",
    "from OCC.Core.IGESControl import IGESControl_Reader\n",
    "from OCC.Core.BRepBndLib import brepbndlib_Add\n",
    "from OCC.Core.GeomConvert import GeomConvert_CompCurveToBSplineCurve, geomconvert_CurveToBSplineCurve, geomconvert_SurfaceToBSplineSurface\n",
    "from OCC.Core.GeomAPI import GeomAPI_ProjectPointOnCurve, GeomAPI_ProjectPointOnSurf\n",
    "from OCC.Core.BRepAdaptor import BRepAdaptor_Curve\n",
    "from OCC.Core.GCPnts import GCPnts_UniformAbscissa\n",
    "from OCC.Core.BRepGProp import BRepGProp_Face, BRepGProp_MeshProps, brepgprop_SurfaceProperties\n",
    "from OCC.Core.GProp import GProp_GProps\n",
    "import matplotlib.pyplot as plt\n",
    "import numpy as np\n",
    "import scipy as sci\n",
    "import occhullmanipulation as occhm\n",
    "from OCC.Core.Tesselator import ShapeTesselator\n",
    "import openmesh as om\n",
    "from OCC.Core.gp import gp_Vec, gp_Trsf, gp_Ax3\n",
    "from OCC.Core.BRepBuilderAPI import BRepBuilderAPI_Transform\n",
    "\n",
    "F = False\n",
    "T = True\n",
    "CAD = CADDeformation()\n",
    "# file_path_sur = \"C:\\\\PycharmProjects\\\\MasterThesis\\\\hullmod\\\\data\\\\test_1_hull_exported.igs\"\n",
    "file_path_sur = \"C:\\\\PycharmProjects\\\\MasterThesis\\\\d3v-gsd-occ\\\\examples\\\\ROPAX_100M.igs\"\n",
    "reader_sur = IGESControl_Reader()\n",
    "# Reading the file, make sure you update path. Note in Windows slash needs to be used\n",
    "reader_sur.ReadFile(file_path_sur)\n",
    "# Prepareing the surface\n",
    "reader_sur.TransferRoots()\n",
    "shape_sur = reader_sur.Shape()\n",
    "bbox = Bnd_Box()\n",
    "bbox.SetGap(1e-5)\n",
    "brepbndlib_Add(shape_sur, bbox, False)\n",
    "xmin, ymin, zmin, xmax, ymax, zmax = bbox.Get()\n",
    "shape_sur_bspline = CAD._bspline_surface_from_face(shape_sur)\n",
    "\n",
    "cover_high = 10000\n",
    "edges = TopExp_Explorer(shape_sur, TopAbs_EDGE)\n",
    "z_ed = []\n",
    "while edges.More():\n",
    "    vertices = TopExp_Explorer(edges.Current(), TopAbs_VERTEX)\n",
    "    zmin = BRep_Tool_Pnt(vertices.Current()).Z()\n",
    "    vertices.Next()\n",
    "    zmax = BRep_Tool_Pnt(vertices.Current()).Z()\n",
    "    z_ed.append([zmin, zmax])\n",
    "    if z_ed[-1][0] <= zmin and z_ed[-1][1] <= zmax:\n",
    "        border = edges.Current()\n",
    "    edges.Next()\n",
    "pris = BRepPrimAPI_MakePrism(border, gp_Vec(0, 0, cover_high)).Shape()\n",
    "# shape_sur = BRepAlgoAPI_Fuse(shape_sur, pris).Shape()\n",
    "bbox = Bnd_Box()\n",
    "bbox.SetGap(1e-5)\n",
    "brepbndlib_Add(shape_sur, bbox, False)\n",
    "xmin, ymin, zmin, xmax, ymax, zmax = bbox.Get()\n",
    "obj = shape_sur\n",
    "# Get the origin point of the object\n",
    "origin = obj.Location().Transformation().TranslationPart()\n",
    "dx = 0-xmin\n",
    "dy = 0-ymin\n",
    "dz = 0-zmin\n",
    "# Compute the displacement vector\n",
    "disp = gp_Vec(dx, dy, dz)\n",
    "gp_Ax3(gp_Pnt(),gp_Dir(disp))\n",
    "\n",
    "trsf = gp_Trsf()\n",
    "trsf.SetTranslation(disp)\n",
    "transformer = BRepBuilderAPI_Transform(trsf)\n",
    "# Apply the transformation to the surface\n",
    "transformer.Perform(shape_sur)\n",
    "# Get the mirrored surface\n",
    "shape_sur = transformer.Shape()\n",
    "bbox = Bnd_Box()\n",
    "bbox.SetGap(1e-5)\n",
    "brepbndlib_Add(shape_sur, bbox, False)\n",
    "xmin, ymin, zmin, xmax, ymax, zmax = bbox.Get()\n",
    "water_draft = 4200\n",
    "y = [0, 1.1 * ymax]\n",
    "z = [1.1 * zmin, water_draft]\n",
    "subm_stations_planes = []\n",
    "subm_section_curves = []\n",
    "\n",
    "# Define the number of points in the distribution\n",
    "n = 65\n",
    "# Generate a sine wave from -pi/2 to pi/2 with n points\n",
    "x_sin = np.linspace(-np.pi/2, np.pi/2, n)\n",
    "y_sin = np.sin(x_sin)\n",
    "# Scale and shift the values to fit the range of 0 to 10\n",
    "a, b = 0.99*xmin, xmax\n",
    "y_sin = (y_sin - np.min(y_sin)) / (np.max(y_sin) - np.min(y_sin)) * (b - a) + a\n",
    "\n",
    "x1 = -3950\n",
    "x2 = 98000\n",
    "n_aft = 10\n",
    "n_fore = 35\n",
    "n_mid = 25\n",
    "length = (xmax-xmin)\n",
    "aft = np.linspace(x1, 0.15 * length, n_aft)\n",
    "mid = np.linspace(aft[-1], 0.8 * length, n_mid)\n",
    "fore = np.linspace(mid[-1], length, n_fore-1)\n",
    "range_x = np.append(np.append(aft, mid), fore)\n",
    "\n",
    "\n",
    "for x in list(range_x):\n",
    "    edge_pl = BRepBuilderAPI_MakeEdge(gp_Pnt(x, y[0], z[0]), gp_Pnt(x, y[1], z[0]))\n",
    "    edge_pl2 = BRepBuilderAPI_MakeEdge(gp_Pnt(x, y[1], z[0]), gp_Pnt(x, y[1], z[1]))\n",
    "    edge_pl3 = BRepBuilderAPI_MakeEdge(gp_Pnt(x, y[1], z[1]), gp_Pnt(x, y[0], z[1]))\n",
    "    edge_pl4 = BRepBuilderAPI_MakeEdge(gp_Pnt(x, y[0], z[1]), gp_Pnt(x, y[0], z[0]))\n",
    "    wire_pl = BRepBuilderAPI_MakeWire()\n",
    "    wire_pl.Add(edge_pl.Edge())\n",
    "    wire_pl.Add(edge_pl2.Edge())\n",
    "    wire_pl.Add(edge_pl3.Edge())\n",
    "    wire_pl.Add(edge_pl4.Edge())\n",
    "    subm_stations_planes = BRepBuilderAPI_MakeFace(wire_pl.Wire()).Face()\n",
    "    curve = BRepAlgoAPI_Section(shape_sur, subm_stations_planes, True)\n",
    "    explorer = TopExp_Explorer(curve.Shape(), TopAbs_EDGE)\n",
    "    wire = BRepBuilderAPI_MakeWire()\n",
    "    vertx = []\n",
    "    while explorer.More():\n",
    "        wire.Add(explorer.Current())\n",
    "        if not wire.IsDone():\n",
    "            edge_explorer = TopExp_Explorer(wire.Edge(), TopAbs_VERTEX)\n",
    "            while edge_explorer.More():\n",
    "                last_vert = edge_explorer.Current()\n",
    "                edge_explorer.Next()\n",
    "            vertex_explorer = TopExp_Explorer(explorer.Current(), TopAbs_VERTEX)\n",
    "            new_edge = BRepBuilderAPI_MakeEdge(last_vert, vertex_explorer.Current())\n",
    "            wire.Add(new_edge.Edge())\n",
    "            wire.Add(explorer.Current())\n",
    "        explorer.Next()\n",
    "    if wire.IsDone():\n",
    "        close_vert_explorer = TopExp_Explorer(wire.Wire(), TopAbs_VERTEX)\n",
    "        while close_vert_explorer.More():\n",
    "            vertx.append(close_vert_explorer.Current())\n",
    "            close_vert_explorer.Next()\n",
    "        vertx.sort(key=lambda coord: BRep_Tool_Pnt(coord).Z())\n",
    "        initial_vert = vertx[0]\n",
    "        final_vert = vertx[-1]\n",
    "        closing_edge = BRepBuilderAPI_MakeEdge(BRep_Tool_Pnt(final_vert),\n",
    "                                               gp_Pnt(BRep_Tool_Pnt(final_vert).X(), BRep_Tool_Pnt(final_vert).Y() ,water_draft))\n",
    "        closing_edge2 = BRepBuilderAPI_MakeEdge(gp_Pnt(BRep_Tool_Pnt(final_vert).X(),BRep_Tool_Pnt(final_vert).Y(),water_draft),\n",
    "                                                gp_Pnt(BRep_Tool_Pnt(final_vert).X(),0,water_draft))\n",
    "        closing_edge3 = BRepBuilderAPI_MakeEdge(gp_Pnt(BRep_Tool_Pnt(final_vert).X(),0,water_draft),\n",
    "                                                BRep_Tool_Pnt(initial_vert))\n",
    "        if closing_edge.IsDone() and closing_edge2.IsDone() and closing_edge3.IsDone():\n",
    "            wire.Add(closing_edge.Edge())\n",
    "            wire.Add(closing_edge2.Edge())\n",
    "            wire.Add(closing_edge3.Edge())\n",
    "        elif closing_edge.IsDone() and closing_edge2.IsDone():\n",
    "            wire.Add(closing_edge.Edge())\n",
    "            wire.Add(closing_edge2.Edge())\n",
    "        elif closing_edge2.IsDone() and closing_edge3.IsDone():\n",
    "            wire.Add(closing_edge2.Edge())\n",
    "            wire.Add(closing_edge3.Edge())\n",
    "        elif closing_edge.IsDone() and closing_edge3.IsDone():\n",
    "            wire.Add(closing_edge.Edge())\n",
    "            wire.Add(closing_edge3.Edge())\n",
    "        elif closing_edge.IsDone():\n",
    "            wire.Add(closing_edge.Edge())\n",
    "        elif closing_edge2.IsDone():\n",
    "            wire.Add(closing_edge2.Edge())\n",
    "        elif closing_edge3.IsDone():\n",
    "            wire.Add(closing_edge3.Edge())\n",
    "        else:\n",
    "            continue\n",
    "        if wire.IsDone():\n",
    "            subm_section_curves += [wire.Wire()]\n",
    "        else:\n",
    "            pass\n",
    "    else:\n",
    "        explorer.Next()\n",
    "sub_faces = []\n",
    "for station in subm_section_curves:\n",
    "    sub_faces.append(BRepBuilderAPI_MakeFace(station).Face())\n",
    "\n",
    "if F:\n",
    "    display, start_display, add_menu, add_function_to_menu = init_display()\n",
    "    display.DisplayShape(shape_sur, update=True, color='black', transparency=True)\n",
    "    for w in sub_faces:\n",
    "     display.DisplayShape(w, update=True, color=Quantity_Color(0.549,0.573,0.675,Quantity_TOC_RGB))\n",
    "    start_display()"
   ],
   "metadata": {
    "collapsed": false
   }
  },
  {
   "cell_type": "code",
   "execution_count": 6,
   "outputs": [
    {
     "name": "stdout",
     "output_type": "stream",
     "text": [
      "Applying Lackenby, cp variation is: 0.012\n"
     ]
    }
   ],
   "source": [
    "import Lackenby_manipulation as lackman\n",
    "import occhullmanipulation as hm\n",
    "lack = lackman.apply_lackenby(shape_sur, 0.544, 0.532)"
   ],
   "metadata": {
    "collapsed": false
   }
  },
  {
   "cell_type": "code",
   "execution_count": 7,
   "outputs": [],
   "source": [
    "lack_x = lackman.coord_x(lack)\n",
    "coord_x = hm.coord_x(shape_sur)\n",
    "areas = hm.station_areas(shape_sur)"
   ],
   "metadata": {
    "collapsed": false
   }
  },
  {
   "cell_type": "code",
   "execution_count": 8,
   "outputs": [
    {
     "data": {
      "text/plain": "<Figure size 640x480 with 1 Axes>",
      "image/png": "[encoded data removed]"
     },
     "metadata": {},
     "output_type": "display_data"
    }
   ],
   "source": [
    "plt.plot(coord_x, areas, label=\"Parent curve\")\n",
    "plt.plot(lack_x, areas, label=\"Transformed curve\")\n",
    "plt.legend()\n",
    "plt.show()"
   ],
   "metadata": {
    "collapsed": false
   }
  },
  {
   "cell_type": "code",
   "execution_count": 11,
   "outputs": [],
   "source": [
    "cp = 0.544\n",
    "desired_cp = 0.532\n",
    "sub_faces = occhm.get_sections(shape_sur)\n",
    "delta_cp = desired_cp-cp\n",
    "lack = occhm.lackenby(shape_sur, delta_cp, 0)\n",
    "p = occhm.parallel_body_norm(shape_sur)"
   ],
   "metadata": {
    "collapsed": false
   }
  },
  {
   "cell_type": "code",
   "execution_count": 13,
   "outputs": [],
   "source": [
    "lack = occhm.lackenby(shape_sur, delta_cp, 0)"
   ],
   "metadata": {
    "collapsed": false
   }
  },
  {
   "cell_type": "code",
   "execution_count": 14,
   "outputs": [
    {
     "data": {
      "text/plain": "[0,\n 0,\n 0,\n 0,\n 0,\n 0,\n 0,\n 0,\n 0,\n 0,\n 0,\n 0,\n 0,\n 0,\n 0,\n 0,\n 0,\n 0,\n 0,\n 0,\n 0,\n -0.010310836745000296,\n -0.009378857082797332,\n -0.008490753157240337,\n -0.007646524968329337,\n -0.0068461725160642965,\n -0.006089695800445225,\n -0.005377094821472133,\n -0.0047083695791450405,\n -0.004083520073463902,\n -0.0035025463044287574,\n -0.0029654482720395774,\n -0.0024722259762963847,\n -0.002022879417199162,\n -0.0016174085947479274,\n -0.0016174085947479274,\n -0.0014487480455857547,\n -0.0012890281247103833,\n -0.0011382488321217959,\n -0.0009964101678199765,\n -0.000863512131804935,\n -0.000739554724076672,\n -0.0006245379446352002,\n -0.0005184617934804987,\n -0.0004213262706125816,\n -0.00033313137603144087,\n -0.00025387710973708575,\n -0.00018356347172950843,\n -0.00012219046200870692,\n -6.975808057468866e-05,\n -2.6266327427443136e-05,\n 8.284797433015146e-06,\n 3.3895294006697426e-05,\n 5.056516229359954e-05,\n 5.8294402293723055e-05,\n 5.708301400706587e-05,\n 4.69309974336285e-05,\n 2.783835257341161e-05,\n -1.949205735823723e-07,\n -3.716882200735789e-05,\n -8.30833517279111e-05,\n -0.0001379385097352503]"
     },
     "execution_count": 14,
     "metadata": {},
     "output_type": "execute_result"
    }
   ],
   "source": [
    "lack"
   ],
   "metadata": {
    "collapsed": false
   }
  },
  {
   "cell_type": "code",
   "execution_count": null,
   "outputs": [],
   "source": [
    "new_faces = []\n",
    "for face, lack_dx in zip(sub_faces, lack):\n",
    "    if lack_dx != 0:\n",
    "        obj = face\n",
    "        dx = lack_dx\n",
    "        dy = 0\n",
    "        dz = 0\n",
    "        # Get the origin point of the object\n",
    "        origin = obj.Location().Transformation().TranslationPart()\n",
    "        # Compute the displacement vector\n",
    "        disp = gp_Vec(dx, dy, dz)\n",
    "        gp_Ax3(gp_Pnt(), gp_Dir(disp))\n",
    "        trsf = gp_Trsf()\n",
    "        trsf.SetTranslation(disp)\n",
    "        transformer = BRepBuilderAPI_Transform(trsf)\n",
    "        # Apply the transformation to the surface\n",
    "        transformer.Perform(face)\n",
    "        # Get the mirrored surface\n",
    "        new_faces.append(transformer.Shape())\n",
    "new_sub = sub_faces[0:len(sub_faces) - len(new_faces)] + new_faces"
   ],
   "metadata": {
    "collapsed": false
   }
  },
  {
   "cell_type": "code",
   "execution_count": 4,
   "outputs": [
    {
     "name": "stdout",
     "output_type": "stream",
     "text": [
      "INFO:OCC.Display.backend:The qt-pyside2 backend is already loaded...``load_backend`` can only be called once per session\n",
      "qt-pyside2 backend - Qt version 5.15.4\n"
     ]
    }
   ],
   "source": [
    "display, start_display, add_menu, add_function_to_menu = init_display()\n",
    "display.DisplayShape(shape_sur, update=True, color='black', transparency=False)\n",
    "for w in sub_faces:\n",
    " display.DisplayShape(w, update=True, color=Quantity_Color(0.549,0.573,0.675,Quantity_TOC_RGB))\n",
    "for l in lack:\n",
    " display.DisplayShape(l, update=True, color='blue1')\n",
    "start_display()"
   ],
   "metadata": {
    "collapsed": false
   }
  },
  {
   "cell_type": "code",
   "execution_count": null,
   "outputs": [],
   "source": [
    "water_plane = Geom_Plane(gp_Pnt(0, 0, water_draft), gp_Dir(0, 0, 1))\n",
    "water_plane_section = BRepAlgoAPI_Section(shape_sur, water_plane, True).Shape()\n",
    "water_plane_explorer = TopExp_Explorer(water_plane_section, TopAbs_EDGE)\n",
    "wire = BRepBuilderAPI_MakeWire()\n",
    "while water_plane_explorer.More():\n",
    "    wire.Add(water_plane_explorer.Current())\n",
    "    if not wire.IsDone():\n",
    "        edge_explorer = TopExp_Explorer(wire.Edge(), TopAbs_VERTEX)\n",
    "        while edge_explorer.More():\n",
    "            last_vert = edge_explorer.Current()\n",
    "            edge_explorer.Next()\n",
    "        vertex_explorer = TopExp_Explorer(water_plane_explorer.Current(), TopAbs_VERTEX)\n",
    "        new_edge = BRepBuilderAPI_MakeEdge(last_vert, vertex_explorer.Current())\n",
    "        wire.Add(new_edge.Edge())\n",
    "        wire.Add(water_plane_explorer.Current())\n",
    "    water_plane_explorer.Next()\n",
    "water_plane_curve = wire.Wire()\n",
    "bbox_lwl = Bnd_Box()\n",
    "bbox_lwl.SetGap(1e-8)\n",
    "brepbndlib_Add(water_plane_curve, bbox_lwl, False)\n",
    "xmin, ymin, zmin, xmax, ymax, zmax = bbox_lwl.Get()"
   ],
   "metadata": {
    "collapsed": false
   }
  },
  {
   "cell_type": "code",
   "execution_count": null,
   "outputs": [],
   "source": [
    "water_plane = Geom_Plane(gp_Pnt(0, 0, water_draft), gp_Dir(0, 0, 1))\n",
    "water_plane_section = (shape_sur, water_plane, True).Shape()\n",
    "water_plane_explorer = TopExp_Explorer(water_plane_section, TopAbs_EDGE)\n",
    "wire = BRepBuilderAPI_MakeWire()\n",
    "while water_plane_explorer.More():\n",
    "    wire.Add(water_plane_explorer.Current())\n",
    "    if not wire.IsDone():\n",
    "        edge_explorer = TopExp_Explorer(wire.Edge(), TopAbs_VERTEX)\n",
    "        while edge_explorer.More():\n",
    "            last_vert = edge_explorer.Current()\n",
    "            edge_explorer.Next()\n",
    "        vertex_explorer = TopExp_Explorer(water_plane_explorer.Current(), TopAbs_VERTEX)\n",
    "        new_edge = BRepBuilderAPI_MakeEdge(last_vert, vertex_explorer.Current())\n",
    "        wire.Add(new_edge.Edge())\n",
    "        wire.Add(water_plane_explorer.Current())\n",
    "    water_plane_explorer.Next()\n",
    "water_plane_curve = wire\n",
    "wire_exp = TopExp_Explorer(wire.Wire(), TopAbs_VERTEX)\n",
    "vert_list = []\n",
    "while wire_exp.More():\n",
    "    vert_list.append(wire_exp.Current())\n",
    "    wire_exp.Next()\n",
    "xmin_wl = BRep_Tool_Pnt(vert_list[-1]).X()\n",
    "xmax_wl = BRep_Tool_Pnt(vert_list[0]).X()\n",
    "y_aft_wl = BRep_Tool_Pnt(vert_list[-1]).Y()\n",
    "closing_edge = BRepBuilderAPI_MakeEdge(BRep_Tool_Pnt(vert_list[0]), gp_Pnt(xmin_wl, 0, water_draft))\n",
    "closing_edge2 = BRepBuilderAPI_MakeEdge(gp_Pnt(xmin_wl, 0, water_draft), gp_Pnt(xmin_wl, y_aft_wl, water_draft))\n",
    "water_plane_curve.Add(closing_edge.Edge())\n",
    "water_plane_curve.Add(closing_edge2.Edge())\n",
    "water_plane_face = BRepBuilderAPI_MakeFace(water_plane_curve.Wire())\n",
    "props_orig = GProp_GProps(gp_Pnt(0, 0, 0))\n",
    "x_axis = gp_Ax1(gp_Pnt(0, 0, 0), gp_Dir(1, 0, 0))\n",
    "brepgprop_SurfaceProperties(water_plane_face.Face(), props_orig)\n",
    "props_orig.MomentOfInertia(x_axis)\n",
    "props_orig.CentreOfMass().X()"
   ],
   "metadata": {
    "collapsed": false
   }
  },
  {
   "cell_type": "code",
   "execution_count": 10,
   "outputs": [
    {
     "data": {
      "text/plain": "<Figure size 640x480 with 1 Axes>",
      "image/png": "[encoded data removed]"
     },
     "metadata": {},
     "output_type": "display_data"
    }
   ],
   "source": [
    "import occhullmanipulation as hm\n",
    "coords_x = hm.coord_x(shape_sur)\n",
    "areas = hm.station_areas(shape_sur)\n",
    "plt.plot(coords_x, areas)\n",
    "plt.title('Sectional area curve')\n",
    "plt.xlabel('x-position')\n",
    "plt.ylabel('Area')\n",
    "plt.show()"
   ],
   "metadata": {
    "collapsed": false
   }
  },
  {
   "cell_type": "code",
   "execution_count": 11,
   "outputs": [
    {
     "data": {
      "text/plain": "[1564.7621666666673,\n 3129.5543333333326,\n 4694.346499999998,\n 6259.138666666672,\n 7823.930833333338,\n 9388.722999999998,\n 10953.515166666672,\n 12518.307333333336,\n 14083.099500000008,\n 14083.099500000008,\n 16625.88135416667,\n 19168.66320833333,\n 21711.44506249999,\n 24254.22691666665,\n 26797.00877083334,\n 29339.790624999994,\n 31882.572479166683,\n 34425.354333333315,\n 36968.1361875,\n 39510.91804166667,\n 42053.699895833306,\n 44596.48175000002,\n 47139.26360416665,\n 49682.04545833338,\n 52224.82731250001,\n 54767.609166666654,\n 57310.391020833275,\n 59853.17287500003,\n 62395.954729166595,\n 64938.73658333336,\n 67481.5184375,\n 70024.30029166664,\n 72567.08214583334,\n 75109.864,\n 75109.864,\n 75662.14241176474,\n 76214.42082352948,\n 76766.69923529415,\n 77318.97764705885,\n 77871.25605882356,\n 78423.53447058822,\n 78975.81288235294,\n 79528.09129411765,\n 80080.36970588243,\n 80632.64811764701,\n 81184.92652941178,\n 81737.20494117645,\n 82289.4833529412,\n 82841.76176470591,\n 83394.04017647059,\n 83946.31858823531,\n 84498.59699999995,\n 85050.8754117647,\n 85603.15382352938,\n 86155.43223529408,\n 86707.71064705882,\n 87259.98905882348,\n 87812.26747058818,\n 88364.54588235293,\n 88916.82429411761,\n 89469.10270588234,\n 90021.38111764712,\n 90573.65952941185,\n 91125.93794117641,\n 91678.21635294109,\n 92230.49476470587,\n 92782.77317647066,\n 93335.05158823523,\n 93887.3300000001]"
     },
     "execution_count": 11,
     "metadata": {},
     "output_type": "execute_result"
    }
   ],
   "source": [
    "coords_x\n"
   ],
   "metadata": {
    "collapsed": false
   }
  },
  {
   "cell_type": "code",
   "execution_count": 164,
   "outputs": [
    {
     "data": {
      "text/plain": "41"
     },
     "execution_count": 164,
     "metadata": {},
     "output_type": "execute_result"
    }
   ],
   "source": [
    "len(x[21:])"
   ],
   "metadata": {
    "collapsed": false
   }
  },
  {
   "cell_type": "code",
   "execution_count": 160,
   "outputs": [
    {
     "name": "stdout",
     "output_type": "stream",
     "text": [
      "1677038778.3668602 1677038789.7839475\n",
      "1677038778.3668602 1677038789.7839475\n",
      "1677038778.3668602 1677038789.7839475\n",
      "1677038778.3668602 1677038789.7839475\n",
      "1677038778.3668602 1677038789.7839475\n",
      "1677038778.3668602 1677038789.7839475\n",
      "1677038778.3668602 1677038789.7839475\n"
     ]
    },
    {
     "ename": "KeyboardInterrupt",
     "evalue": "",
     "output_type": "error",
     "traceback": [
      "\u001B[1;31m---------------------------------------------------------------------------\u001B[0m",
      "\u001B[1;31mKeyboardInterrupt\u001B[0m                         Traceback (most recent call last)",
      "Cell \u001B[1;32mIn[160], line 15\u001B[0m\n\u001B[0;32m     13\u001B[0m \u001B[38;5;28;01mwhile\u001B[39;00m os\u001B[38;5;241m.\u001B[39mpath\u001B[38;5;241m.\u001B[39mgetmtime(arquivo) \u001B[38;5;241m<\u001B[39m t1:\n\u001B[0;32m     14\u001B[0m     \u001B[38;5;28mprint\u001B[39m(os\u001B[38;5;241m.\u001B[39mpath\u001B[38;5;241m.\u001B[39mgetmtime(arquivo), t1)\n\u001B[1;32m---> 15\u001B[0m     \u001B[43mtime\u001B[49m\u001B[38;5;241;43m.\u001B[39;49m\u001B[43msleep\u001B[49m\u001B[43m(\u001B[49m\u001B[38;5;241;43m2\u001B[39;49m\u001B[43m)\u001B[49m\n",
      "\u001B[1;31mKeyboardInterrupt\u001B[0m: "
     ]
    }
   ],
   "source": [
    "import os\n",
    "import time\n",
    "count = 0\n",
    "arquivo = 'C:\\\\PycharmProjects\\\\MasterThesis\\\\d3v-gsd-occ\\\\examples\\\\test.txt'\n",
    "while not os.path.isfile(arquivo) and count < 10:\n",
    "    print(\"Output file being created.\")\n",
    "    time.sleep(1)\n",
    "    count += 1\n",
    "else:\n",
    "    if count == 10:\n",
    "        print('Time out!')\n",
    "t1 = time.time()\n",
    "while os.path.getmtime(arquivo) < t1:\n",
    "    print(os.path.getmtime(arquivo), t1)\n",
    "    time.sleep(2)"
   ],
   "metadata": {
    "collapsed": false
   }
  },
  {
   "cell_type": "code",
   "execution_count": 156,
   "outputs": [
    {
     "name": "stdout",
     "output_type": "stream",
     "text": [
      "1677038561.2983725 1677038545.5182474\n"
     ]
    }
   ],
   "source": [
    "if os.path.getmtime(arquivo) < t1:\n",
    "    print(os.path.getmtime(arquivo), t1)\n",
    "print(os.path.getmtime(arquivo), t1)"
   ],
   "metadata": {
    "collapsed": false
   }
  },
  {
   "cell_type": "code",
   "execution_count": null,
   "outputs": [],
   "source": [
    "props_orig = GProp_GProps(gp_Pnt(0,0,0))\n",
    "\n",
    "coord_x = []\n",
    "areas = []\n",
    "stations_zb = []\n",
    "stations_bwl = []\n",
    "mom_x = []\n",
    "stations_bwl_2=[]\n",
    "x_axis = gp_Ax1(gp_Pnt(0,0,0), gp_Dir(1,0,0))\n",
    "i_xx = []\n",
    "for face in sub_faces:\n",
    "    brepgprop_SurfaceProperties(face, props_orig)\n",
    "    coord_x.append(props_orig.CentreOfMass().X())\n",
    "    areas.append(2*props_orig.Mass())\n",
    "    stations_zb.append(props_orig.CentreOfMass().Z())\n",
    "    mom_x.append(props_orig.StaticMoments())\n",
    "    i_xx.append(2*props_orig.MomentOfInertia(x_axis))"
   ],
   "metadata": {
    "collapsed": false
   }
  },
  {
   "cell_type": "code",
   "execution_count": null,
   "outputs": [],
   "source": [
    "bwl_list = []\n",
    "for face in sub_faces:\n",
    "    water_plane_section = BRepAlgoAPI_Section(face, water_plane, True).Shape()\n",
    "    vert_expl = TopExp_Explorer(water_plane_section, TopAbs_VERTEX)\n",
    "    vert_list = []\n",
    "    while vert_expl.More():\n",
    "        vert_list.append(BRep_Tool_Pnt(vert_expl.Current()).Y())\n",
    "        vert_expl.Next()\n",
    "    if vert_list:\n",
    "        bwl = max(vert_list)\n",
    "        bwl_list.append(2*bwl)\n",
    "    else:\n",
    "        pass\n",
    "\n",
    "for i in range(len(coord_x) - len(bwl_list)):\n",
    "    bwl_list.append(0)\n",
    "print(bwl_list)"
   ],
   "metadata": {
    "collapsed": false
   }
  },
  {
   "cell_type": "code",
   "execution_count": null,
   "outputs": [],
   "source": [
    "from OCC.Core.gp import gp_Vec, gp_Trsf, gp_Ax3\n",
    "from OCC.Core.TopoDS import TopoDS_Shape\n",
    "from OCC.Core.BRepBuilderAPI import BRepBuilderAPI_Transform\n",
    "new_faces = []\n",
    "for face, lack_dx  in zip(sub_faces, lack):\n",
    "    if lack_dx != 0:\n",
    "        obj = face\n",
    "        dx = lack_dx\n",
    "        dy = 0\n",
    "        dz = 0\n",
    "        # Get the origin point of the object\n",
    "        origin = obj.Location().Transformation().TranslationPart()\n",
    "\n",
    "        # Compute the displacement vector\n",
    "        disp = gp_Vec(dx, dy, dz)\n",
    "        gp_Ax3(gp_Pnt(),gp_Dir(disp))\n",
    "\n",
    "        trsf = gp_Trsf()\n",
    "        trsf.SetTranslation(disp)\n",
    "\n",
    "        transformer = BRepBuilderAPI_Transform(trsf)\n",
    "        # Apply the transformation to the surface\n",
    "        transformer.Perform(face)\n",
    "        # Get the mirrored surface\n",
    "        new_faces.append(transformer.Shape())\n"
   ],
   "metadata": {
    "collapsed": false
   }
  },
  {
   "cell_type": "code",
   "execution_count": null,
   "outputs": [],
   "source": [
    "print(len(new_faces))\n",
    "len(sub_faces)\n",
    "\n",
    "new_sub = sub_faces[0:len(sub_faces)-len(new_faces)] + new_faces\n",
    "len(new_sub)"
   ],
   "metadata": {
    "collapsed": false
   }
  },
  {
   "cell_type": "code",
   "execution_count": null,
   "outputs": [],
   "source": [
    "if T:\n",
    "    display, start_display, add_menu, add_function_to_menu = init_display()\n",
    "    display.DisplayShape(shape_sur, update=True, color='black')\n",
    "    # for n_face in new_faces:\n",
    "    #     display.DisplayShape(n_face, update=True, color='red')\n",
    "    # for face in sub_faces:\n",
    "    #     display.DisplayShape(face, update=True, color='blue1')\n",
    "    for face in new_sub:\n",
    "        display.DisplayShape(face, update=True, color='yellow')\n",
    "    start_display()"
   ],
   "metadata": {
    "collapsed": false
   }
  },
  {
   "cell_type": "code",
   "execution_count": null,
   "outputs": [],
   "source": [
    "lack_faces_curve = []\n",
    "for x in [pos + lack_pos for pos, lack_pos in zip(occhm.coord_x(shape_sur), lack)]:\n",
    "    edge_pl = BRepBuilderAPI_MakeEdge(gp_Pnt(x, y[0], z[0]), gp_Pnt(x, y[1], z[0]))\n",
    "    edge_pl2 = BRepBuilderAPI_MakeEdge(gp_Pnt(x, y[1], z[0]), gp_Pnt(x, y[1], z[1]))\n",
    "    edge_pl3 = BRepBuilderAPI_MakeEdge(gp_Pnt(x, y[1], z[1]), gp_Pnt(x, y[0], z[1]))\n",
    "    edge_pl4 = BRepBuilderAPI_MakeEdge(gp_Pnt(x, y[0], z[1]), gp_Pnt(x, y[0], z[0]))\n",
    "    wire_pl = BRepBuilderAPI_MakeWire()\n",
    "    wire_pl.Add(edge_pl.Edge())\n",
    "    wire_pl.Add(edge_pl2.Edge())\n",
    "    wire_pl.Add(edge_pl3.Edge())\n",
    "    wire_pl.Add(edge_pl4.Edge())\n",
    "    subm_stations_planes = BRepBuilderAPI_MakeFace(wire_pl.Wire()).Face()\n",
    "    curve = BRepAlgoAPI_Section(shape_sur, subm_stations_planes, True)\n",
    "    explorer = TopExp_Explorer(curve.Shape(), TopAbs_EDGE)\n",
    "    wire = BRepBuilderAPI_MakeWire()\n",
    "    vertx = []\n",
    "    while explorer.More():\n",
    "        wire.Add(explorer.Current())\n",
    "        if not wire.IsDone():\n",
    "            edge_explorer = TopExp_Explorer(wire.Edge(), TopAbs_VERTEX)\n",
    "            while edge_explorer.More():\n",
    "                last_vert = edge_explorer.Current()\n",
    "                edge_explorer.Next()\n",
    "            vertex_explorer = TopExp_Explorer(explorer.Current(), TopAbs_VERTEX)\n",
    "            new_edge = BRepBuilderAPI_MakeEdge(last_vert, vertex_explorer.Current())\n",
    "            wire.Add(new_edge.Edge())\n",
    "            wire.Add(explorer.Current())\n",
    "        explorer.Next()\n",
    "    close_vert_explorer = TopExp_Explorer(wire.Wire(), TopAbs_VERTEX)\n",
    "    while close_vert_explorer.More():\n",
    "        vertx.append(close_vert_explorer.Current())\n",
    "        close_vert_explorer.Next()\n",
    "    vertx.sort(key=lambda coord: BRep_Tool_Pnt(coord).Z())\n",
    "    initial_vert = vertx[0]\n",
    "    final_vert = vertx[-1]\n",
    "    closing_edge = BRepBuilderAPI_MakeEdge(BRep_Tool_Pnt(final_vert),\n",
    "                                           gp_Pnt(BRep_Tool_Pnt(final_vert).X(),0,BRep_Tool_Pnt(final_vert).Z()))\n",
    "    closing_edge2 = BRepBuilderAPI_MakeEdge(gp_Pnt(BRep_Tool_Pnt(final_vert).X(),0,BRep_Tool_Pnt(final_vert).Z()),\n",
    "                                            gp_Pnt(BRep_Tool_Pnt(final_vert).X(),0,BRep_Tool_Pnt(initial_vert).Z()))\n",
    "    if closing_edge.IsDone() and closing_edge2.IsDone():\n",
    "        wire.Add(closing_edge.Edge())\n",
    "        wire.Add(closing_edge2.Edge())\n",
    "    else:\n",
    "        continue\n",
    "    if wire.IsDone():\n",
    "        lack_faces_curve += [wire.Wire()]\n",
    "    else:\n",
    "        pass\n",
    "lack_faces = []\n",
    "for station in subm_section_curves:\n",
    "    lack_faces.append(BRepBuilderAPI_MakeFace(station).Face())\n",
    "if T:\n",
    "    display, start_display, add_menu, add_function_to_menu = init_display()\n",
    "    display.DisplayShape(shape_sur, update=True, color='black')\n",
    "    for n_face in lack_faces:\n",
    "        display.DisplayShape(n_face, update=True, color='red')\n",
    "    for face in sub_faces:\n",
    "        display.DisplayShape(face, update=True, color='blue1')\n",
    "    start_display()"
   ],
   "metadata": {
    "collapsed": false
   }
  },
  {
   "cell_type": "code",
   "execution_count": null,
   "outputs": [],
   "source": [
    "from OCC.Core.gp import gp_Vec, gp_Trsf, gp_Ax3\n",
    "from OCC.Core.TopoDS import TopoDS_Shape\n",
    "from OCC.Core.BRepBuilderAPI import BRepBuilderAPI_Transform\n",
    "obj = shape_sur\n",
    "dy = 15000\n",
    "dx = 0\n",
    "dz = 0\n",
    "# Get the origin point of the object\n",
    "origin = obj.Location().Transformation().TranslationPart()\n",
    "\n",
    "# Compute the displacement vector\n",
    "disp = gp_Vec(dx, dy, dz)\n",
    "gp_Ax3(gp_Pnt(),gp_Dir(disp))\n",
    "# Compute the transformation matrix\n",
    "# trsf = BRepBuilderAPI_Transform(gp_Trsf())\n",
    "trsf = gp_Trsf()\n",
    "trsf.SetTranslation(disp)\n",
    "\n",
    "transformer = BRepBuilderAPI_Transform(trsf)\n",
    "# Apply the transformation to the surface\n",
    "transformer.Perform(shape_sur)\n",
    "# Get the mirrored surface\n",
    "moved_surface = transformer.Shape()\n",
    "\n",
    "\n",
    "if T:\n",
    "    display, start_display, add_menu, add_function_to_menu = init_display()\n",
    "    display.DisplayShape(shape_sur, update=True, color='black')\n",
    "    display.DisplayShape(moved_surface, update=True, color='red')\n",
    "\n",
    "    start_display()\n"
   ],
   "metadata": {
    "collapsed": false
   }
  },
  {
   "cell_type": "code",
   "execution_count": null,
   "outputs": [],
   "source": [
    "vol = sci.integrate.simps(areas, coord_x)\n",
    "tot_mom = [area * x for area, x in zip(areas, coord_x)]\n",
    "vcb = [area * z for area, z in zip(areas, stations_zb)]\n",
    "vcb = sci.integrate.simps(vcb, coord_x)/vol\n",
    "\n",
    "sum(i_xx)/vol + (vcb - zmin)"
   ],
   "metadata": {
    "collapsed": false
   }
  },
  {
   "cell_type": "code",
   "execution_count": null,
   "outputs": [],
   "source": [
    "x = [-3721.794479999998, -3470.4122871409927, -2719.2129349343063, -1477.003548956451, 241.65210150485117, 2416.6043503297924, 5022.353870978707, 8028.350632781496, 11399.352072115063, 15095.836279239238, 19074.46535655322, 23288.593515820776, 27688.81395738861, 32223.538119739245, 36839.60050820692, 41482.882011793066, 46098.94440026075, 50633.66856261143, 55033.88900417925, 59248.017163446806, 63226.64624076077, 66923.13044788492, 70294.13188721846, 73300.12864902135, 75905.8781696702, 78080.83041849516, 79799.48606895647, 81041.69545493423, 81792.89480714098, 82044.277]\n",
    "y = [14622.531817976298, 14623.824829207611, 14642.378485341342, 14717.766193073958, 14893.11588445285, 15169.389829192558, 15472.560417676834, 15715.795589576152, 15873.239807514987, 15957.101485518306, 15990.97942606027, 15999.393805370593, 16000.007924576288, 16000.007254651084, 15999.992580733644, 15956.939213074907, 15568.07258193969, 14504.252413201384, 12881.977337096032, 11020.805627511945, 9191.865530940751, 7490.622077895954, 5949.776532636624, 4578.442992822562, 3389.7217374933803, 2753.055182848947, 2768.021403251978, 2798.4954704618544, 2820.5256160971826, 2828.0604913834445]\n",
    "\n",
    "plt.plot(x, y)"
   ],
   "metadata": {
    "collapsed": false
   }
  },
  {
   "cell_type": "code",
   "execution_count": null,
   "outputs": [],
   "source": [],
   "metadata": {
    "collapsed": false
   }
  },
  {
   "cell_type": "code",
   "execution_count": null,
   "outputs": [],
   "source": [],
   "metadata": {
    "collapsed": false
   }
  }
 ],
 "metadata": {
  "kernelspec": {
   "display_name": "Python 3",
   "language": "python",
   "name": "python3"
  },
  "language_info": {
   "codemirror_mode": {
    "name": "ipython",
    "version": 2
   },
   "file_extension": ".py",
   "mimetype": "text/x-python",
   "name": "python",
   "nbconvert_exporter": "python",
   "pygments_lexer": "ipython2",
   "version": "2.7.6"
  }
 },
 "nbformat": 4,
 "nbformat_minor": 0
}
